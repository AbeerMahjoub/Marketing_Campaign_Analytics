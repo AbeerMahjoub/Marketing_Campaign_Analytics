{
 "cells": [
  {
   "cell_type": "markdown",
   "metadata": {
    "id": "W4cK8eIFUUbZ"
   },
   "source": [
    "###Importing data"
   ]
  },
  {
   "cell_type": "code",
   "execution_count": null,
   "metadata": {
    "colab": {
     "base_uri": "https://localhost:8080/"
    },
    "executionInfo": {
     "elapsed": 27162,
     "status": "ok",
     "timestamp": 1624560175879,
     "user": {
      "displayName": "SKILLCATE",
      "photoUrl": "https://lh3.googleusercontent.com/a-/AOh14GhT5e7MnDmh2dcfNhKDOV8oRoeRJVinedzmD2Su=s64",
      "userId": "11062674699417926870"
     },
     "user_tz": -330
    },
    "id": "Xn8OzEhCNEgG",
    "outputId": "04958ab3-ca42-456b-e669-91f900a939cb"
   },
   "outputs": [
    {
     "name": "stdout",
     "output_type": "stream",
     "text": [
      "Mounted at /content/drive\n"
     ]
    }
   ],
   "source": [
    "from google.colab import drive\n",
    "drive.mount('/content/drive')"
   ]
  },
  {
   "cell_type": "code",
   "execution_count": null,
   "metadata": {
    "colab": {
     "base_uri": "https://localhost:8080/"
    },
    "executionInfo": {
     "elapsed": 492,
     "status": "ok",
     "timestamp": 1624560187628,
     "user": {
      "displayName": "SKILLCATE",
      "photoUrl": "https://lh3.googleusercontent.com/a-/AOh14GhT5e7MnDmh2dcfNhKDOV8oRoeRJVinedzmD2Su=s64",
      "userId": "11062674699417926870"
     },
     "user_tz": -330
    },
    "id": "jn68pL_dXC93",
    "outputId": "7eea18f1-7971-443c-e402-f37efeb37148"
   },
   "outputs": [
    {
     "name": "stdout",
     "output_type": "stream",
     "text": [
      "/content/drive/MyDrive/Colab Notebooks/4 Analytics-enabled Marketing\n"
     ]
    }
   ],
   "source": [
    "%cd /content/drive/MyDrive/Colab Notebooks/Project4_Analytics_Enabled_Marketing\n",
    "# !pwd"
   ]
  },
  {
   "cell_type": "code",
   "execution_count": null,
   "metadata": {
    "id": "mEkybjycJBXY"
   },
   "outputs": [],
   "source": [
    "import pandas as pd\n",
    "import numpy as np\n",
    "\n",
    "from sklearn.model_selection import train_test_split\n",
    "from sklearn.preprocessing import StandardScaler\n",
    "from sklearn.metrics import classification_report, confusion_matrix, accuracy_score\n",
    "from sklearn.linear_model import LogisticRegression"
   ]
  },
  {
   "cell_type": "code",
   "execution_count": null,
   "metadata": {
    "id": "JsdviH_EXjAm"
   },
   "outputs": [],
   "source": [
    "dataset=pd.read_excel(\"1.2_Dataset_90Percent.xlsx\")\n",
    "# !ls"
   ]
  },
  {
   "cell_type": "code",
   "execution_count": null,
   "metadata": {
    "colab": {
     "base_uri": "https://localhost:8080/",
     "height": 202
    },
    "executionInfo": {
     "elapsed": 793,
     "status": "ok",
     "timestamp": 1624560213444,
     "user": {
      "displayName": "SKILLCATE",
      "photoUrl": "https://lh3.googleusercontent.com/a-/AOh14GhT5e7MnDmh2dcfNhKDOV8oRoeRJVinedzmD2Su=s64",
      "userId": "11062674699417926870"
     },
     "user_tz": -330
    },
    "id": "t3lhQYpuZO8X",
    "outputId": "3b4bcec6-2753-4220-863a-8892c942b9c8"
   },
   "outputs": [
    {
     "data": {
      "text/html": [
       "<div>\n",
       "<style scoped>\n",
       "    .dataframe tbody tr th:only-of-type {\n",
       "        vertical-align: middle;\n",
       "    }\n",
       "\n",
       "    .dataframe tbody tr th {\n",
       "        vertical-align: top;\n",
       "    }\n",
       "\n",
       "    .dataframe thead th {\n",
       "        text-align: right;\n",
       "    }\n",
       "</style>\n",
       "<table border=\"1\" class=\"dataframe\">\n",
       "  <thead>\n",
       "    <tr style=\"text-align: right;\">\n",
       "      <th></th>\n",
       "      <th>ID</th>\n",
       "      <th>DemAffl</th>\n",
       "      <th>DemAge</th>\n",
       "      <th>DemClusterGroup</th>\n",
       "      <th>DemGender</th>\n",
       "      <th>DemReg</th>\n",
       "      <th>DemTVReg</th>\n",
       "      <th>LoyalClass</th>\n",
       "      <th>LoyalSpend</th>\n",
       "      <th>LoyalTime</th>\n",
       "    </tr>\n",
       "  </thead>\n",
       "  <tbody>\n",
       "    <tr>\n",
       "      <th>0</th>\n",
       "      <td>140</td>\n",
       "      <td>10.0</td>\n",
       "      <td>76.0</td>\n",
       "      <td>C</td>\n",
       "      <td>U</td>\n",
       "      <td>Midlands</td>\n",
       "      <td>Wales &amp; West</td>\n",
       "      <td>Gold</td>\n",
       "      <td>16000.00</td>\n",
       "      <td>4.0</td>\n",
       "    </tr>\n",
       "    <tr>\n",
       "      <th>1</th>\n",
       "      <td>620</td>\n",
       "      <td>4.0</td>\n",
       "      <td>49.0</td>\n",
       "      <td>D</td>\n",
       "      <td>U</td>\n",
       "      <td>Midlands</td>\n",
       "      <td>Wales &amp; West</td>\n",
       "      <td>Gold</td>\n",
       "      <td>6000.00</td>\n",
       "      <td>5.0</td>\n",
       "    </tr>\n",
       "    <tr>\n",
       "      <th>2</th>\n",
       "      <td>868</td>\n",
       "      <td>5.0</td>\n",
       "      <td>70.0</td>\n",
       "      <td>D</td>\n",
       "      <td>F</td>\n",
       "      <td>Midlands</td>\n",
       "      <td>Wales &amp; West</td>\n",
       "      <td>Silver</td>\n",
       "      <td>0.02</td>\n",
       "      <td>8.0</td>\n",
       "    </tr>\n",
       "    <tr>\n",
       "      <th>3</th>\n",
       "      <td>1120</td>\n",
       "      <td>10.0</td>\n",
       "      <td>65.0</td>\n",
       "      <td>F</td>\n",
       "      <td>M</td>\n",
       "      <td>Midlands</td>\n",
       "      <td>Midlands</td>\n",
       "      <td>Tin</td>\n",
       "      <td>0.01</td>\n",
       "      <td>7.0</td>\n",
       "    </tr>\n",
       "    <tr>\n",
       "      <th>4</th>\n",
       "      <td>2313</td>\n",
       "      <td>11.0</td>\n",
       "      <td>68.0</td>\n",
       "      <td>A</td>\n",
       "      <td>F</td>\n",
       "      <td>Midlands</td>\n",
       "      <td>Midlands</td>\n",
       "      <td>Tin</td>\n",
       "      <td>0.01</td>\n",
       "      <td>8.0</td>\n",
       "    </tr>\n",
       "  </tbody>\n",
       "</table>\n",
       "</div>"
      ],
      "text/plain": [
       "     ID  DemAffl  DemAge  ... LoyalClass LoyalSpend LoyalTime\n",
       "0   140     10.0    76.0  ...       Gold   16000.00       4.0\n",
       "1   620      4.0    49.0  ...       Gold    6000.00       5.0\n",
       "2   868      5.0    70.0  ...     Silver       0.02       8.0\n",
       "3  1120     10.0    65.0  ...        Tin       0.01       7.0\n",
       "4  2313     11.0    68.0  ...        Tin       0.01       8.0\n",
       "\n",
       "[5 rows x 10 columns]"
      ]
     },
     "execution_count": 5,
     "metadata": {
      "tags": []
     },
     "output_type": "execute_result"
    }
   ],
   "source": [
    "#shows first few rows of the code\n",
    "dataset.head()"
   ]
  },
  {
   "cell_type": "markdown",
   "metadata": {
    "id": "Y0-pdNzIUF2o"
   },
   "source": [
    "### Data preparation"
   ]
  },
  {
   "cell_type": "code",
   "execution_count": null,
   "metadata": {
    "colab": {
     "base_uri": "https://localhost:8080/",
     "height": 202
    },
    "executionInfo": {
     "elapsed": 719,
     "status": "ok",
     "timestamp": 1624560322736,
     "user": {
      "displayName": "SKILLCATE",
      "photoUrl": "https://lh3.googleusercontent.com/a-/AOh14GhT5e7MnDmh2dcfNhKDOV8oRoeRJVinedzmD2Su=s64",
      "userId": "11062674699417926870"
     },
     "user_tz": -330
    },
    "id": "eSGX-2eFZTgK",
    "outputId": "b8e5b586-d5d4-4602-8a59-d1a69f121785"
   },
   "outputs": [
    {
     "data": {
      "text/html": [
       "<div>\n",
       "<style scoped>\n",
       "    .dataframe tbody tr th:only-of-type {\n",
       "        vertical-align: middle;\n",
       "    }\n",
       "\n",
       "    .dataframe tbody tr th {\n",
       "        vertical-align: top;\n",
       "    }\n",
       "\n",
       "    .dataframe thead th {\n",
       "        text-align: right;\n",
       "    }\n",
       "</style>\n",
       "<table border=\"1\" class=\"dataframe\">\n",
       "  <thead>\n",
       "    <tr style=\"text-align: right;\">\n",
       "      <th></th>\n",
       "      <th>DemAffl</th>\n",
       "      <th>DemAge</th>\n",
       "      <th>DemClusterGroup</th>\n",
       "      <th>DemGender</th>\n",
       "      <th>DemReg</th>\n",
       "      <th>DemTVReg</th>\n",
       "      <th>LoyalClass</th>\n",
       "      <th>LoyalSpend</th>\n",
       "      <th>LoyalTime</th>\n",
       "    </tr>\n",
       "  </thead>\n",
       "  <tbody>\n",
       "    <tr>\n",
       "      <th>0</th>\n",
       "      <td>10.0</td>\n",
       "      <td>76.0</td>\n",
       "      <td>C</td>\n",
       "      <td>U</td>\n",
       "      <td>Midlands</td>\n",
       "      <td>Wales &amp; West</td>\n",
       "      <td>Gold</td>\n",
       "      <td>16000.00</td>\n",
       "      <td>4.0</td>\n",
       "    </tr>\n",
       "    <tr>\n",
       "      <th>1</th>\n",
       "      <td>4.0</td>\n",
       "      <td>49.0</td>\n",
       "      <td>D</td>\n",
       "      <td>U</td>\n",
       "      <td>Midlands</td>\n",
       "      <td>Wales &amp; West</td>\n",
       "      <td>Gold</td>\n",
       "      <td>6000.00</td>\n",
       "      <td>5.0</td>\n",
       "    </tr>\n",
       "    <tr>\n",
       "      <th>2</th>\n",
       "      <td>5.0</td>\n",
       "      <td>70.0</td>\n",
       "      <td>D</td>\n",
       "      <td>F</td>\n",
       "      <td>Midlands</td>\n",
       "      <td>Wales &amp; West</td>\n",
       "      <td>Silver</td>\n",
       "      <td>0.02</td>\n",
       "      <td>8.0</td>\n",
       "    </tr>\n",
       "    <tr>\n",
       "      <th>3</th>\n",
       "      <td>10.0</td>\n",
       "      <td>65.0</td>\n",
       "      <td>F</td>\n",
       "      <td>M</td>\n",
       "      <td>Midlands</td>\n",
       "      <td>Midlands</td>\n",
       "      <td>Tin</td>\n",
       "      <td>0.01</td>\n",
       "      <td>7.0</td>\n",
       "    </tr>\n",
       "    <tr>\n",
       "      <th>4</th>\n",
       "      <td>11.0</td>\n",
       "      <td>68.0</td>\n",
       "      <td>A</td>\n",
       "      <td>F</td>\n",
       "      <td>Midlands</td>\n",
       "      <td>Midlands</td>\n",
       "      <td>Tin</td>\n",
       "      <td>0.01</td>\n",
       "      <td>8.0</td>\n",
       "    </tr>\n",
       "  </tbody>\n",
       "</table>\n",
       "</div>"
      ],
      "text/plain": [
       "   DemAffl  DemAge DemClusterGroup  ... LoyalClass LoyalSpend LoyalTime\n",
       "0     10.0    76.0               C  ...       Gold   16000.00       4.0\n",
       "1      4.0    49.0               D  ...       Gold    6000.00       5.0\n",
       "2      5.0    70.0               D  ...     Silver       0.02       8.0\n",
       "3     10.0    65.0               F  ...        Tin       0.01       7.0\n",
       "4     11.0    68.0               A  ...        Tin       0.01       8.0\n",
       "\n",
       "[5 rows x 9 columns]"
      ]
     },
     "execution_count": 6,
     "metadata": {
      "tags": []
     },
     "output_type": "execute_result"
    }
   ],
   "source": [
    "#dropping customer ID column from the dataset\n",
    "\n",
    "dataset=dataset.drop(['ID'],axis=1)\n",
    "\n",
    "dataset.head()"
   ]
  },
  {
   "cell_type": "code",
   "execution_count": null,
   "metadata": {
    "colab": {
     "base_uri": "https://localhost:8080/"
    },
    "executionInfo": {
     "elapsed": 585,
     "status": "ok",
     "timestamp": 1624560342936,
     "user": {
      "displayName": "SKILLCATE",
      "photoUrl": "https://lh3.googleusercontent.com/a-/AOh14GhT5e7MnDmh2dcfNhKDOV8oRoeRJVinedzmD2Su=s64",
      "userId": "11062674699417926870"
     },
     "user_tz": -330
    },
    "id": "mUTczjGsZTig",
    "outputId": "ce7688a3-db0a-46cc-f892-e1f2701595ae"
   },
   "outputs": [
    {
     "data": {
      "text/plain": [
       "DemAffl             48\n",
       "DemAge              67\n",
       "DemClusterGroup     28\n",
       "DemGender          114\n",
       "DemReg              18\n",
       "DemTVReg            18\n",
       "LoyalClass           0\n",
       "LoyalSpend           0\n",
       "LoyalTime           15\n",
       "dtype: int64"
      ]
     },
     "execution_count": 7,
     "metadata": {
      "tags": []
     },
     "output_type": "execute_result"
    }
   ],
   "source": [
    "# explore missing values\n",
    "\n",
    "dataset.isna().sum()"
   ]
  },
  {
   "cell_type": "code",
   "execution_count": null,
   "metadata": {
    "id": "_OOyTXPWZTmI"
   },
   "outputs": [],
   "source": [
    "# filling missing values with mean/mode*\n",
    "\n",
    "dataset['DemAffl']=dataset['DemAffl'].fillna(dataset['DemAffl'].mode()[0])\n",
    "dataset['DemAge']=dataset['DemAge'].fillna(dataset['DemAge'].mode()[0])\n",
    "dataset['DemClusterGroup']=dataset['DemClusterGroup'].fillna(dataset['DemClusterGroup'].mode()[0])\n",
    "dataset['DemGender']=dataset['DemGender'].fillna(dataset['DemGender'].mode()[0])\n",
    "dataset['DemReg']=dataset['DemReg'].fillna(dataset['DemReg'].mode()[0])\n",
    "dataset['DemTVReg']=dataset['DemTVReg'].fillna(dataset['DemTVReg'].mode()[0])\n",
    "dataset['LoyalTime']=dataset['LoyalTime'].fillna(dataset['LoyalTime'].mean())"
   ]
  },
  {
   "cell_type": "code",
   "execution_count": null,
   "metadata": {
    "colab": {
     "base_uri": "https://localhost:8080/"
    },
    "executionInfo": {
     "elapsed": 646,
     "status": "ok",
     "timestamp": 1624560351853,
     "user": {
      "displayName": "SKILLCATE",
      "photoUrl": "https://lh3.googleusercontent.com/a-/AOh14GhT5e7MnDmh2dcfNhKDOV8oRoeRJVinedzmD2Su=s64",
      "userId": "11062674699417926870"
     },
     "user_tz": -330
    },
    "id": "IWLdRHv7ZbZW",
    "outputId": "11e01aa9-991b-4baa-b9ec-cf28269adf96"
   },
   "outputs": [
    {
     "data": {
      "text/plain": [
       "DemAffl            0\n",
       "DemAge             0\n",
       "DemClusterGroup    0\n",
       "DemGender          0\n",
       "DemReg             0\n",
       "DemTVReg           0\n",
       "LoyalClass         0\n",
       "LoyalSpend         0\n",
       "LoyalTime          0\n",
       "dtype: int64"
      ]
     },
     "execution_count": 9,
     "metadata": {
      "tags": []
     },
     "output_type": "execute_result"
    }
   ],
   "source": [
    "# explore missing values post missing value fix\n",
    "\n",
    "dataset.isna().sum()"
   ]
  },
  {
   "cell_type": "markdown",
   "metadata": {
    "id": "H4yAq0Ze54D2"
   },
   "source": [
    "###Coverting category to numeric"
   ]
  },
  {
   "cell_type": "code",
   "execution_count": null,
   "metadata": {
    "colab": {
     "base_uri": "https://localhost:8080/"
    },
    "executionInfo": {
     "elapsed": 14,
     "status": "ok",
     "timestamp": 1624560366216,
     "user": {
      "displayName": "SKILLCATE",
      "photoUrl": "https://lh3.googleusercontent.com/a-/AOh14GhT5e7MnDmh2dcfNhKDOV8oRoeRJVinedzmD2Su=s64",
      "userId": "11062674699417926870"
     },
     "user_tz": -330
    },
    "id": "5AjdIX3purTG",
    "outputId": "f3b20f82-cd43-4bd7-a2a4-943912362704"
   },
   "outputs": [
    {
     "name": "stdout",
     "output_type": "stream",
     "text": [
      "{'A': 0, 'B': 1, 'C': 2, 'D': 3, 'E': 4, 'F': 5, 'U': 6}\n",
      "{'F': 0, 'M': 1, 'U': 2}\n",
      "{'Midlands': 0, 'North': 1, 'Scottish': 2, 'South East': 3, 'South West': 4}\n",
      "{'Border': 0, 'C Scotland': 1, 'East': 2, 'London': 3, 'Midlands': 4, 'N East': 5, 'N Scot': 6, 'N West': 7, 'S & S East': 8, 'S West': 9, 'Ulster': 10, 'Wales & West': 11, 'Yorkshire': 12}\n",
      "{'Gold': 0, 'Platinum': 1, 'Silver': 2, 'Tin': 3}\n"
     ]
    }
   ],
   "source": [
    "# converting to mumeric\n",
    "\n",
    "from sklearn.preprocessing import LabelEncoder\n",
    "number = LabelEncoder()\n",
    "\n",
    "dataset['DemClusterGroup'] = number.fit_transform(dataset['DemClusterGroup'].astype('str'))\n",
    "integer_mapping = {l: i for i, l in enumerate(number.classes_)}\n",
    "print(integer_mapping)\n",
    "\n",
    "dataset['DemGender'] = number.fit_transform(dataset['DemGender'].astype('str'))\n",
    "integer_mapping = {l: i for i, l in enumerate(number.classes_)}\n",
    "print(integer_mapping)\n",
    "\n",
    "dataset['DemReg'] = number.fit_transform(dataset['DemReg'].astype('str'))\n",
    "integer_mapping = {l: i for i, l in enumerate(number.classes_)}\n",
    "print(integer_mapping)\n",
    "\n",
    "dataset['DemTVReg'] = number.fit_transform(dataset['DemTVReg'].astype('str'))\n",
    "integer_mapping = {l: i for i, l in enumerate(number.classes_)}\n",
    "print(integer_mapping)\n",
    "\n",
    "dataset['LoyalClass'] = number.fit_transform(dataset['LoyalClass'].astype('str'))\n",
    "integer_mapping = {l: i for i, l in enumerate(number.classes_)}\n",
    "print(integer_mapping)"
   ]
  },
  {
   "cell_type": "code",
   "execution_count": null,
   "metadata": {
    "colab": {
     "base_uri": "https://localhost:8080/",
     "height": 202
    },
    "executionInfo": {
     "elapsed": 734,
     "status": "ok",
     "timestamp": 1624560372010,
     "user": {
      "displayName": "SKILLCATE",
      "photoUrl": "https://lh3.googleusercontent.com/a-/AOh14GhT5e7MnDmh2dcfNhKDOV8oRoeRJVinedzmD2Su=s64",
      "userId": "11062674699417926870"
     },
     "user_tz": -330
    },
    "id": "hZk_8a5sR9pr",
    "outputId": "afb01ac1-cae7-4826-bcab-532ef05b85e9"
   },
   "outputs": [
    {
     "data": {
      "text/html": [
       "<div>\n",
       "<style scoped>\n",
       "    .dataframe tbody tr th:only-of-type {\n",
       "        vertical-align: middle;\n",
       "    }\n",
       "\n",
       "    .dataframe tbody tr th {\n",
       "        vertical-align: top;\n",
       "    }\n",
       "\n",
       "    .dataframe thead th {\n",
       "        text-align: right;\n",
       "    }\n",
       "</style>\n",
       "<table border=\"1\" class=\"dataframe\">\n",
       "  <thead>\n",
       "    <tr style=\"text-align: right;\">\n",
       "      <th></th>\n",
       "      <th>DemAffl</th>\n",
       "      <th>DemAge</th>\n",
       "      <th>DemClusterGroup</th>\n",
       "      <th>DemGender</th>\n",
       "      <th>DemReg</th>\n",
       "      <th>DemTVReg</th>\n",
       "      <th>LoyalClass</th>\n",
       "      <th>LoyalSpend</th>\n",
       "      <th>LoyalTime</th>\n",
       "    </tr>\n",
       "  </thead>\n",
       "  <tbody>\n",
       "    <tr>\n",
       "      <th>0</th>\n",
       "      <td>10.0</td>\n",
       "      <td>76.0</td>\n",
       "      <td>2</td>\n",
       "      <td>2</td>\n",
       "      <td>0</td>\n",
       "      <td>11</td>\n",
       "      <td>0</td>\n",
       "      <td>16000.00</td>\n",
       "      <td>4.0</td>\n",
       "    </tr>\n",
       "    <tr>\n",
       "      <th>1</th>\n",
       "      <td>4.0</td>\n",
       "      <td>49.0</td>\n",
       "      <td>3</td>\n",
       "      <td>2</td>\n",
       "      <td>0</td>\n",
       "      <td>11</td>\n",
       "      <td>0</td>\n",
       "      <td>6000.00</td>\n",
       "      <td>5.0</td>\n",
       "    </tr>\n",
       "    <tr>\n",
       "      <th>2</th>\n",
       "      <td>5.0</td>\n",
       "      <td>70.0</td>\n",
       "      <td>3</td>\n",
       "      <td>0</td>\n",
       "      <td>0</td>\n",
       "      <td>11</td>\n",
       "      <td>2</td>\n",
       "      <td>0.02</td>\n",
       "      <td>8.0</td>\n",
       "    </tr>\n",
       "    <tr>\n",
       "      <th>3</th>\n",
       "      <td>10.0</td>\n",
       "      <td>65.0</td>\n",
       "      <td>5</td>\n",
       "      <td>1</td>\n",
       "      <td>0</td>\n",
       "      <td>4</td>\n",
       "      <td>3</td>\n",
       "      <td>0.01</td>\n",
       "      <td>7.0</td>\n",
       "    </tr>\n",
       "    <tr>\n",
       "      <th>4</th>\n",
       "      <td>11.0</td>\n",
       "      <td>68.0</td>\n",
       "      <td>0</td>\n",
       "      <td>0</td>\n",
       "      <td>0</td>\n",
       "      <td>4</td>\n",
       "      <td>3</td>\n",
       "      <td>0.01</td>\n",
       "      <td>8.0</td>\n",
       "    </tr>\n",
       "  </tbody>\n",
       "</table>\n",
       "</div>"
      ],
      "text/plain": [
       "   DemAffl  DemAge  DemClusterGroup  ...  LoyalClass  LoyalSpend  LoyalTime\n",
       "0     10.0    76.0                2  ...           0    16000.00        4.0\n",
       "1      4.0    49.0                3  ...           0     6000.00        5.0\n",
       "2      5.0    70.0                3  ...           2        0.02        8.0\n",
       "3     10.0    65.0                5  ...           3        0.01        7.0\n",
       "4     11.0    68.0                0  ...           3        0.01        8.0\n",
       "\n",
       "[5 rows x 9 columns]"
      ]
     },
     "execution_count": 11,
     "metadata": {
      "tags": []
     },
     "output_type": "execute_result"
    }
   ],
   "source": [
    "dataset.head()"
   ]
  },
  {
   "cell_type": "markdown",
   "metadata": {
    "id": "QHOSDHEATpyW"
   },
   "source": [
    "### Predictions"
   ]
  },
  {
   "cell_type": "code",
   "execution_count": null,
   "metadata": {
    "id": "NpVPWlOYZbha"
   },
   "outputs": [],
   "source": [
    "X_fresh = dataset.iloc[:, 0:9].values"
   ]
  },
  {
   "cell_type": "code",
   "execution_count": null,
   "metadata": {
    "id": "JlbdxylHZhCp"
   },
   "outputs": [],
   "source": [
    "import joblib\n",
    "\n",
    "classifier = joblib.load('./3.2 Classifier_LoyalCustomers')"
   ]
  },
  {
   "cell_type": "code",
   "execution_count": null,
   "metadata": {
    "colab": {
     "base_uri": "https://localhost:8080/"
    },
    "executionInfo": {
     "elapsed": 14,
     "status": "ok",
     "timestamp": 1624560425965,
     "user": {
      "displayName": "SKILLCATE",
      "photoUrl": "https://lh3.googleusercontent.com/a-/AOh14GhT5e7MnDmh2dcfNhKDOV8oRoeRJVinedzmD2Su=s64",
      "userId": "11062674699417926870"
     },
     "user_tz": -330
    },
    "id": "w-EcXl1aZhHO",
    "outputId": "0f423dd8-0ec1-4d02-d660-33bdde8c7aa6"
   },
   "outputs": [
    {
     "name": "stdout",
     "output_type": "stream",
     "text": [
      "[0 0 0 0 0 0 0 0 0 1 0 0 0 0 1 0 0 0 0 0 0 0 0 0 0 0 0 0 0 0 0 0 0 0 0 0 1\n",
      " 0 0 0 0 1 0 0 0 1 0 0 0 0 0 0 0 0 0 0 1 0 0 0 0 0 0 0 1 0 0 1 0 0 0 0 0 0\n",
      " 0 0 0 0 0 0 0 0 0 0 1 0 0 0 0 0 0 0 0 1 0 1 0 0 0 0 0 0 0 0 1 0 0 0 0 0 0\n",
      " 0 0 0 0 0 0 0 0 1 0 0 0 0 1 0 0 0 0 0 0 0 1 0 0 0 0 0 0 0 0 0 0 0 0 0 0 1\n",
      " 0 0 0 0 0 0 0 0 0 0 0 0 0 0 0 0 0 0 0 0 0 0 0 0 0 0 0 0 0 0 0 0 0 1 0 0 0\n",
      " 0 0 0 0 0 0 0 0 0 0 0 0 0 0 0 0 0 0 0 0 0 0 0 1 0 0 0 0 0 0 1 0 0 1 0 0 0\n",
      " 1 0 0 0 0 1 0 1 0 0 0 1 0 0 0 0 0 0 0 0 0 0 0 1 0 0 0 0 0 0 0 0 0 0 0 0 0\n",
      " 0 0 0 0 0 0 1 1 0 0 1 0 0 1 0 0 1 0 0 0 0 0 0 0 0 0 0 1 0 1 0 0 0 1 0 0 0\n",
      " 1 0 0 1 0 0 0 0 1 0 0 0 0 0 0 0 0 0 0 0 0 0 0 0 0 1 0 0 0 0 0 1 0 0 0 0 0\n",
      " 0 0 0 0 0 0 0 0 0 0 0 0 0 0 1 0 0 0 0 0 1 1 0 0 0 0 0 0 1 0 0 0 0 0 0 0 1\n",
      " 0 0 0 0 0 0 0 1 0 0 0 0 1 0 0 1 0 0 0 0 0 0 0 0 1 0 0 0 0 0 0 0 0 0 0 0 0\n",
      " 1 0 0 0 0 0 1 0 0 0 0 0 0 0 0 0 1 0 1 0 0 0 0 0 0 0 0 0 0 0 0 0 0 0 0 0 0\n",
      " 0 0 0 0 0 1 0 1 0 0 0 0 0 0 0 0 0 1 0 0 0 0 0 0 0 0 0 0 0 0 0 0 1 0 0 0 0\n",
      " 1 0 0 0 0 0 1 0 0 0 0 0 0 0 0 0 0 0 0 0 0 0 1 0 0 1 0 0 0 1 0 1 0 0 0 0 0\n",
      " 0 0 0 1 0 0 0 1 0 0 0 0 0 0 0 0 0 0 0 1 0 0 0 0 0 0 1 0 0 0 0 0 0 0 0 0 0\n",
      " 0 0 1 0 0 0 0 0 0 1 0 1 1 0 0 0 0 0 1 0 0 0 0 0 0 0 0 0 0 1 0 0 1 0 0 0 0\n",
      " 1 0 1 0 0 0 0 0 1 0 0 1 1 0 1 0 0 1 0 0 0 0 0 0 0 0 0 0 0 0 0 0 0 0 0 0 0\n",
      " 0 0 0 0 0 0 0 0 0 0 0 0 1 0 0 0 0 1 0 0 1 0 0 0 0 1 0 0 0 0 0 1 0 0 0 0 0\n",
      " 0 0 0 0 0 0 0 1 0 0 0 0 0 0 0 0 0 1 1 0 0 0 0 0 0 0 0 0 0 0 0 0 0 0 0 0 0\n",
      " 0 0 0 0 0 0 0 1 0 0 1 0 0 0 0 1 0 0 0 0 0 0 0 0 0 0 0 1 0 0 0 0 0 0 0 0 0\n",
      " 0 1 0 0 0 1 0 0 0 0 0 1 0 0 0 0 0 0 0 1 0 0 0 0 0 0 0 0 0 0 0 0 0 1 0 0 0\n",
      " 0 0 0 0 0 0 0 1 0 1 0 0 0 0 0 0 0 0 0 0 0 0 0 0 0 0 0 1 0 1 0 0 0 1 0 0 0\n",
      " 0 0 0 1 0 0 0 0 0 1 0 0 0 0 0 0 0 0 0 0 1 1 0 0 0 0 0 0 0 0 0 0 0 0 0 1 0\n",
      " 0 0 0 0 0 0 0 1 0 0 0 0 0 0 0 0 0 0 1 0 0 0 1 1 1 0 0 0 0 0 0 0 0 0 0 0 0\n",
      " 0 0 0 1 0 0 0 0 0 0 1 0 1 0 0 0 0 0 0 0 0 0 0 0 0 0 0 0 0 0 1 0 0 1 0 1 0\n",
      " 0 0 0 0 1 0 0 0 0 1 0 0 0 1 0 0 1 0 0 0 0 0 0 0 0 0 0 0 0 0 0 0 0 0 0 1 1\n",
      " 0 0 0 0 0 0 0 0 0 0 1 0 0 0 0 0 0 0 0 1 0 0 0 0 0 0 0 0 1 0 0 1 0 0 0 0 1]\n"
     ]
    }
   ],
   "source": [
    "y_pred = classifier.predict(X_fresh)\n",
    "print(y_pred)"
   ]
  },
  {
   "cell_type": "code",
   "execution_count": null,
   "metadata": {
    "colab": {
     "base_uri": "https://localhost:8080/"
    },
    "executionInfo": {
     "elapsed": 515,
     "status": "ok",
     "timestamp": 1624560439434,
     "user": {
      "displayName": "SKILLCATE",
      "photoUrl": "https://lh3.googleusercontent.com/a-/AOh14GhT5e7MnDmh2dcfNhKDOV8oRoeRJVinedzmD2Su=s64",
      "userId": "11062674699417926870"
     },
     "user_tz": -330
    },
    "id": "98nc3bUPZhcZ",
    "outputId": "298085f1-820d-4ca4-887e-df032ac4d6d7"
   },
   "outputs": [
    {
     "data": {
      "text/plain": [
       "array([[0.97549312, 0.02450688],\n",
       "       [0.96899159, 0.03100841],\n",
       "       [0.94465062, 0.05534938],\n",
       "       ...,\n",
       "       [0.96593599, 0.03406401],\n",
       "       [0.76761016, 0.23238984],\n",
       "       [0.49754322, 0.50245678]])"
      ]
     },
     "execution_count": 15,
     "metadata": {
      "tags": []
     },
     "output_type": "execute_result"
    }
   ],
   "source": [
    "predictions = classifier.predict_proba(X_fresh)\n",
    "predictions"
   ]
  },
  {
   "cell_type": "code",
   "execution_count": null,
   "metadata": {
    "colab": {
     "base_uri": "https://localhost:8080/",
     "height": 202
    },
    "executionInfo": {
     "elapsed": 1284,
     "status": "ok",
     "timestamp": 1624560451353,
     "user": {
      "displayName": "SKILLCATE",
      "photoUrl": "https://lh3.googleusercontent.com/a-/AOh14GhT5e7MnDmh2dcfNhKDOV8oRoeRJVinedzmD2Su=s64",
      "userId": "11062674699417926870"
     },
     "user_tz": -330
    },
    "id": "UA7u-NQIZtGY",
    "outputId": "c74b8e4d-cf56-4ccb-e02b-e0a65eb11236"
   },
   "outputs": [
    {
     "data": {
      "text/html": [
       "<div>\n",
       "<style scoped>\n",
       "    .dataframe tbody tr th:only-of-type {\n",
       "        vertical-align: middle;\n",
       "    }\n",
       "\n",
       "    .dataframe tbody tr th {\n",
       "        vertical-align: top;\n",
       "    }\n",
       "\n",
       "    .dataframe thead th {\n",
       "        text-align: right;\n",
       "    }\n",
       "</style>\n",
       "<table border=\"1\" class=\"dataframe\">\n",
       "  <thead>\n",
       "    <tr style=\"text-align: right;\">\n",
       "      <th></th>\n",
       "      <th>DemAffl</th>\n",
       "      <th>DemAge</th>\n",
       "      <th>DemClusterGroup</th>\n",
       "      <th>DemGender</th>\n",
       "      <th>DemReg</th>\n",
       "      <th>DemTVReg</th>\n",
       "      <th>LoyalClass</th>\n",
       "      <th>LoyalSpend</th>\n",
       "      <th>LoyalTime</th>\n",
       "      <th>prob_0</th>\n",
       "      <th>prob_1</th>\n",
       "    </tr>\n",
       "  </thead>\n",
       "  <tbody>\n",
       "    <tr>\n",
       "      <th>0</th>\n",
       "      <td>10.0</td>\n",
       "      <td>76.0</td>\n",
       "      <td>2</td>\n",
       "      <td>2</td>\n",
       "      <td>0</td>\n",
       "      <td>11</td>\n",
       "      <td>0</td>\n",
       "      <td>16000.00</td>\n",
       "      <td>4.0</td>\n",
       "      <td>0.975493</td>\n",
       "      <td>0.024507</td>\n",
       "    </tr>\n",
       "    <tr>\n",
       "      <th>1</th>\n",
       "      <td>4.0</td>\n",
       "      <td>49.0</td>\n",
       "      <td>3</td>\n",
       "      <td>2</td>\n",
       "      <td>0</td>\n",
       "      <td>11</td>\n",
       "      <td>0</td>\n",
       "      <td>6000.00</td>\n",
       "      <td>5.0</td>\n",
       "      <td>0.968992</td>\n",
       "      <td>0.031008</td>\n",
       "    </tr>\n",
       "    <tr>\n",
       "      <th>2</th>\n",
       "      <td>5.0</td>\n",
       "      <td>70.0</td>\n",
       "      <td>3</td>\n",
       "      <td>0</td>\n",
       "      <td>0</td>\n",
       "      <td>11</td>\n",
       "      <td>2</td>\n",
       "      <td>0.02</td>\n",
       "      <td>8.0</td>\n",
       "      <td>0.944651</td>\n",
       "      <td>0.055349</td>\n",
       "    </tr>\n",
       "    <tr>\n",
       "      <th>3</th>\n",
       "      <td>10.0</td>\n",
       "      <td>65.0</td>\n",
       "      <td>5</td>\n",
       "      <td>1</td>\n",
       "      <td>0</td>\n",
       "      <td>4</td>\n",
       "      <td>3</td>\n",
       "      <td>0.01</td>\n",
       "      <td>7.0</td>\n",
       "      <td>0.890356</td>\n",
       "      <td>0.109644</td>\n",
       "    </tr>\n",
       "    <tr>\n",
       "      <th>4</th>\n",
       "      <td>11.0</td>\n",
       "      <td>68.0</td>\n",
       "      <td>0</td>\n",
       "      <td>0</td>\n",
       "      <td>0</td>\n",
       "      <td>4</td>\n",
       "      <td>3</td>\n",
       "      <td>0.01</td>\n",
       "      <td>8.0</td>\n",
       "      <td>0.804350</td>\n",
       "      <td>0.195650</td>\n",
       "    </tr>\n",
       "  </tbody>\n",
       "</table>\n",
       "</div>"
      ],
      "text/plain": [
       "   DemAffl  DemAge  DemClusterGroup  ...  LoyalTime    prob_0    prob_1\n",
       "0     10.0    76.0                2  ...        4.0  0.975493  0.024507\n",
       "1      4.0    49.0                3  ...        5.0  0.968992  0.031008\n",
       "2      5.0    70.0                3  ...        8.0  0.944651  0.055349\n",
       "3     10.0    65.0                5  ...        7.0  0.890356  0.109644\n",
       "4     11.0    68.0                0  ...        8.0  0.804350  0.195650\n",
       "\n",
       "[5 rows x 11 columns]"
      ]
     },
     "execution_count": 16,
     "metadata": {
      "tags": []
     },
     "output_type": "execute_result"
    }
   ],
   "source": [
    "# writing model output file\n",
    "\n",
    "df_prediction_prob = pd.DataFrame(predictions, columns = ['prob_0', 'prob_1'])\n",
    "\n",
    "dfx=pd.concat([dataset,df_prediction_prob], axis=1)\n",
    "\n",
    "dfx.to_excel(\"4.2_BuyProb_90Percent.xlsx\")\n",
    "\n",
    "dfx.head()"
   ]
  }
 ],
 "metadata": {
  "colab": {
   "collapsed_sections": [
    "QHOSDHEATpyW"
   ],
   "name": "b2_Predictor_Marketing.ipynb",
   "provenance": [
    {
     "file_id": "1j4FYqBAxSJ5jfBVkwoTf86IMm721DYKX",
     "timestamp": 1622964071618
    },
    {
     "file_id": "1kiVwvGbrK3TYqkkolV7TxLMCTI9A_Iyz",
     "timestamp": 1621503523204
    }
   ],
   "toc_visible": true
  },
  "kernelspec": {
   "display_name": "Python 3",
   "language": "python",
   "name": "python3"
  },
  "language_info": {
   "codemirror_mode": {
    "name": "ipython",
    "version": 3
   },
   "file_extension": ".py",
   "mimetype": "text/x-python",
   "name": "python",
   "nbconvert_exporter": "python",
   "pygments_lexer": "ipython3",
   "version": "3.8.5"
  }
 },
 "nbformat": 4,
 "nbformat_minor": 1
}
